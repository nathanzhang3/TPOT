{
 "cells": [
  {
   "cell_type": "markdown",
   "metadata": {},
   "source": [
    "https://www.analyticsvidhya.com/blog/2017/07/introduction-to-genetic-algorithm/"
   ]
  },
  {
   "cell_type": "code",
   "execution_count": 67,
   "metadata": {},
   "outputs": [],
   "source": [
    "import numpy as np \n",
    "import pandas as pd \n",
    "import matplotlib.pyplot as plt \n",
    "%matplotlib inline \n",
    "from sklearn import preprocessing \n",
    "from sklearn.metrics import mean_squared_error \n",
    "from sklearn.model_selection import train_test_split\n",
    "from tpot import TPOTRegressor"
   ]
  },
  {
   "cell_type": "code",
   "execution_count": 71,
   "metadata": {},
   "outputs": [],
   "source": [
    "## preprocessing \n",
    "train = pd.read_csv('/Users/Zhang/Downloads/Train_UWu5bXk.csv')\n",
    "test = pd.read_csv('/Users/Zhang/Downloads/Test_u94Q5KV.csv')"
   ]
  },
  {
   "cell_type": "code",
   "execution_count": 72,
   "metadata": {},
   "outputs": [],
   "source": [
    "### mean imputations \n",
    "train['Item_Weight'].fillna((train['Item_Weight'].mean()), inplace=True)\n",
    "test['Item_Weight'].fillna((test['Item_Weight'].mean()), inplace=True)"
   ]
  },
  {
   "cell_type": "code",
   "execution_count": 73,
   "metadata": {},
   "outputs": [
    {
     "name": "stderr",
     "output_type": "stream",
     "text": [
      "/Users/Zhang/anaconda3/lib/python3.6/site-packages/ipykernel_launcher.py:26: SettingWithCopyWarning: \n",
      "A value is trying to be set on a copy of a slice from a DataFrame\n",
      "\n",
      "See the caveats in the documentation: http://pandas.pydata.org/pandas-docs/stable/indexing.html#indexing-view-versus-copy\n"
     ]
    }
   ],
   "source": [
    "### reducing fat content to only two categories \n",
    "train['Item_Fat_Content'] = train['Item_Fat_Content'].replace(['low fat','LF'], ['Low Fat','Low Fat']) \n",
    "train['Item_Fat_Content'] = train['Item_Fat_Content'].replace(['reg'], ['Regular']) \n",
    "test['Item_Fat_Content'] = test['Item_Fat_Content'].replace(['low fat','LF'], ['Low Fat','Low Fat']) \n",
    "test['Item_Fat_Content'] = test['Item_Fat_Content'].replace(['reg'], ['Regular']) \n",
    "train['Outlet_Establishment_Year'] = 2013 - train['Outlet_Establishment_Year'] \n",
    "test['Outlet_Establishment_Year'] = 2013 - test['Outlet_Establishment_Year'] \n",
    "\n",
    "train['Outlet_Size'].fillna('Small',inplace=True)\n",
    "test['Outlet_Size'].fillna('Small',inplace=True)\n",
    "\n",
    "train['Item_Visibility'] = np.sqrt(train['Item_Visibility'])\n",
    "test['Item_Visibility'] = np.sqrt(test['Item_Visibility'])\n",
    "\n",
    "col = ['Outlet_Size','Outlet_Location_Type','Outlet_Type','Item_Fat_Content']\n",
    "test['Item_Outlet_Sales'] = 0\n",
    "combi = train.append(test)\n",
    "number = preprocessing.LabelEncoder() #<———-insert line\n",
    "\n",
    "for i in col:\n",
    "    combi[i] = number.fit_transform(combi[i].astype('str'))\n",
    "    combi[i] = combi[i].astype('object')\n",
    "\n",
    "train = combi[:train.shape[0]]\n",
    "test = combi[train.shape[0]:]\n",
    "test.drop('Item_Outlet_Sales',axis=1,inplace=True)"
   ]
  },
  {
   "cell_type": "code",
   "execution_count": 74,
   "metadata": {},
   "outputs": [],
   "source": [
    "## removing id variables \n",
    "tpot_train = train.drop(['Outlet_Identifier','Item_Type','Item_Identifier'],axis=1)\n",
    "tpot_test = test.drop(['Outlet_Identifier','Item_Type','Item_Identifier'],axis=1)\n",
    "target = tpot_train['Item_Outlet_Sales']\n",
    "tpot_train.drop('Item_Outlet_Sales',axis=1,inplace=True)"
   ]
  },
  {
   "cell_type": "code",
   "execution_count": 60,
   "metadata": {},
   "outputs": [
    {
     "data": {
      "text/plain": [
       "TPOTRegressor(config_dict={'sklearn.linear_model.ElasticNetCV': {'l1_ratio': array([ 0.  ,  0.05,  0.1 ,  0.15,  0.2 ,  0.25,  0.3 ,  0.35,  0.4 ,\n",
       "        0.45,  0.5 ,  0.55,  0.6 ,  0.65,  0.7 ,  0.75,  0.8 ,  0.85,\n",
       "        0.9 ,  0.95,  1.  ]), 'tol': [1e-05, 0.0001, 0.001, 0.01, 0.1]}, 'sklearn.ensemble.ExtraT....45,\n",
       "        0.5 ,  0.55,  0.6 ,  0.65,  0.7 ,  0.75,  0.8 ,  0.85,  0.9 ,\n",
       "        0.95,  1.  ])}}}},\n",
       "       crossover_rate=0.1, cv=5, disable_update_check=False,\n",
       "       early_stop=None, generations=5, max_eval_time_mins=5,\n",
       "       max_time_mins=None, memory=None, mutation_rate=0.9, n_jobs=1,\n",
       "       offspring_size=50, periodic_checkpoint_folder=None,\n",
       "       population_size=50, random_state=None, scoring=None, subsample=1.0,\n",
       "       verbosity=2, warm_start=False)"
      ]
     },
     "execution_count": 60,
     "metadata": {},
     "output_type": "execute_result"
    }
   ],
   "source": [
    "tpot"
   ]
  },
  {
   "cell_type": "code",
   "execution_count": 75,
   "metadata": {},
   "outputs": [
    {
     "name": "stdout",
     "output_type": "stream",
     "text": [
      "Warning: xgboost.XGBRegressor is not available and will not be used by TPOT.\n"
     ]
    },
    {
     "name": "stderr",
     "output_type": "stream",
     "text": [
      "\r",
      "Optimization Progress:   0%|          | 0/350 [00:00<?, ?pipeline/s]\r",
      "Optimization Progress:   3%|▎         | 9/350 [00:05<03:35,  1.58pipeline/s]\r",
      "Optimization Progress:   3%|▎         | 11/350 [00:14<09:48,  1.74s/pipeline]\r",
      "Optimization Progress:   3%|▎         | 12/350 [00:14<07:13,  1.28s/pipeline]\r",
      "Optimization Progress:   4%|▍         | 14/350 [00:15<06:09,  1.10s/pipeline]\r",
      "Optimization Progress:   4%|▍         | 15/350 [00:16<04:43,  1.18pipeline/s]\r",
      "Optimization Progress:   5%|▍         | 17/350 [00:17<04:39,  1.19pipeline/s]\r",
      "Optimization Progress:   5%|▌         | 18/350 [00:19<06:21,  1.15s/pipeline]\r",
      "Optimization Progress:   5%|▌         | 19/350 [00:22<09:50,  1.78s/pipeline]\r",
      "Optimization Progress:   6%|▌         | 20/350 [00:29<18:04,  3.29s/pipeline]\r",
      "Optimization Progress:   6%|▋         | 22/350 [00:33<15:32,  2.84s/pipeline]\r",
      "Optimization Progress:   7%|▋         | 23/350 [00:34<13:27,  2.47s/pipeline]\r",
      "Optimization Progress:   8%|▊         | 27/350 [00:35<09:25,  1.75s/pipeline]\r",
      "Optimization Progress:   8%|▊         | 28/350 [00:37<10:52,  2.03s/pipeline]\r",
      "Optimization Progress:   9%|▉         | 32/350 [00:38<07:35,  1.43s/pipeline]\r",
      "Optimization Progress:   9%|▉         | 33/350 [00:39<07:59,  1.51s/pipeline]\r",
      "Optimization Progress:  10%|█         | 35/350 [00:41<06:46,  1.29s/pipeline]\r",
      "Optimization Progress:  11%|█         | 37/350 [00:41<04:53,  1.06pipeline/s]\r",
      "Optimization Progress:  11%|█         | 38/350 [00:41<03:45,  1.39pipeline/s]\r",
      "Optimization Progress:  11%|█         | 39/350 [00:43<04:35,  1.13pipeline/s]\r",
      "Optimization Progress:  12%|█▏        | 41/350 [00:44<04:32,  1.13pipeline/s]\r",
      "Optimization Progress:  12%|█▏        | 42/350 [00:47<07:02,  1.37s/pipeline]\r",
      "Optimization Progress:  12%|█▏        | 43/350 [00:47<05:15,  1.03s/pipeline]\r",
      "Optimization Progress:  13%|█▎        | 45/350 [00:51<07:01,  1.38s/pipeline]\r",
      "Optimization Progress:  13%|█▎        | 46/350 [00:54<08:36,  1.70s/pipeline]\r",
      "Optimization Progress:  14%|█▎        | 48/350 [00:55<07:06,  1.41s/pipeline]\r",
      "Optimization Progress:  14%|█▍        | 49/350 [00:57<07:07,  1.42s/pipeline]\r",
      "Optimization Progress:  14%|█▍        | 50/350 [00:58<07:19,  1.46s/pipeline]\r",
      "Optimization Progress:  15%|█▌        | 53/350 [01:00<05:58,  1.21s/pipeline]\r",
      "Optimization Progress:  16%|█▌        | 56/350 [01:00<04:15,  1.15pipeline/s]\r",
      "Optimization Progress:  16%|█▋        | 57/350 [01:01<03:18,  1.47pipeline/s]\r",
      "Optimization Progress:  17%|█▋        | 58/350 [01:04<06:43,  1.38s/pipeline]\r",
      "Optimization Progress:  17%|█▋        | 59/350 [01:05<06:15,  1.29s/pipeline]\r",
      "Optimization Progress:  18%|█▊        | 62/350 [01:05<04:29,  1.07pipeline/s]\r",
      "Optimization Progress:  18%|█▊        | 63/350 [01:05<03:24,  1.40pipeline/s]\r",
      "Optimization Progress:  19%|█▊        | 65/350 [01:05<02:27,  1.94pipeline/s]\r",
      "Optimization Progress:  19%|█▉        | 66/350 [01:11<09:28,  2.00s/pipeline]\r",
      "Optimization Progress:  19%|█▉        | 67/350 [01:13<09:45,  2.07s/pipeline]\r",
      "Optimization Progress:  19%|█▉        | 68/350 [01:13<07:06,  1.51s/pipeline]\r",
      "Optimization Progress:  20%|█▉        | 69/350 [01:14<06:02,  1.29s/pipeline]\r",
      "Optimization Progress:  20%|██        | 71/350 [01:14<04:24,  1.05pipeline/s]\r",
      "Optimization Progress:  21%|██        | 72/350 [01:15<04:14,  1.09pipeline/s]\r",
      "Optimization Progress:  21%|██        | 74/350 [01:18<04:35,  1.00pipeline/s]\r",
      "Optimization Progress:  21%|██▏       | 75/350 [01:25<13:12,  2.88s/pipeline]\r",
      "Optimization Progress:  22%|██▏       | 76/350 [01:25<09:33,  2.09s/pipeline]\r",
      "Optimization Progress:  23%|██▎       | 79/350 [01:25<06:40,  1.48s/pipeline]\r",
      "Optimization Progress:  23%|██▎       | 82/350 [01:29<06:15,  1.40s/pipeline]\r",
      "Optimization Progress:  24%|██▎       | 83/350 [01:31<07:01,  1.58s/pipeline]\r",
      "Optimization Progress:  24%|██▍       | 85/350 [01:31<05:04,  1.15s/pipeline]\r",
      "Optimization Progress:  25%|██▍       | 87/350 [01:34<05:32,  1.26s/pipeline]\r",
      "Optimization Progress:  25%|██▌       | 88/350 [01:38<08:38,  1.98s/pipeline]\r",
      "Optimization Progress:  25%|██▌       | 89/350 [01:39<07:48,  1.79s/pipeline]\r",
      "Optimization Progress:  26%|██▌       | 90/350 [01:41<07:39,  1.77s/pipeline]\r",
      "Optimization Progress:  26%|██▋       | 92/350 [01:41<05:23,  1.25s/pipeline]\r",
      "Optimization Progress:  27%|██▋       | 93/350 [01:48<12:37,  2.95s/pipeline]\r",
      "Optimization Progress:  27%|██▋       | 95/350 [01:53<11:51,  2.79s/pipeline]\r",
      "Optimization Progress:  27%|██▋       | 96/350 [01:57<13:01,  3.08s/pipeline]\r",
      "Optimization Progress:  28%|██▊       | 97/350 [01:58<11:16,  2.67s/pipeline]\r",
      "Optimization Progress:  28%|██▊       | 99/350 [02:02<10:01,  2.40s/pipeline]\r",
      "Optimization Progress:  29%|██▊       | 100/350 [02:02<07:15,  1.74s/pipeline]\r",
      "                                                                              \r",
      "\r",
      "Optimization Progress:  29%|██▊       | 100/350 [02:02<07:15,  1.74s/pipeline]"
     ]
    },
    {
     "name": "stdout",
     "output_type": "stream",
     "text": [
      "Generation 1 - Current best internal CV score: -1166861.5209395248\n"
     ]
    },
    {
     "name": "stderr",
     "output_type": "stream",
     "text": [
      "\r",
      "Optimization Progress:  29%|██▉       | 102/350 [02:05<06:50,  1.65s/pipeline]\r",
      "Optimization Progress:  30%|██▉       | 104/350 [02:05<04:48,  1.17s/pipeline]\r",
      "Optimization Progress:  30%|███       | 105/350 [02:07<05:24,  1.32s/pipeline]\r",
      "Optimization Progress:  30%|███       | 106/350 [02:08<04:52,  1.20s/pipeline]\r",
      "Optimization Progress:  31%|███       | 108/350 [02:10<05:04,  1.26s/pipeline]\r",
      "Optimization Progress:  31%|███▏      | 110/350 [02:13<05:10,  1.30s/pipeline]\r",
      "Optimization Progress:  32%|███▏      | 111/350 [02:15<06:17,  1.58s/pipeline]\r",
      "Optimization Progress:  32%|███▏      | 112/350 [02:19<08:25,  2.12s/pipeline]\r",
      "Optimization Progress:  32%|███▏      | 113/350 [02:21<07:54,  2.00s/pipeline]\r",
      "Optimization Progress:  33%|███▎      | 114/350 [02:22<07:48,  1.99s/pipeline]\r",
      "Optimization Progress:  33%|███▎      | 115/350 [02:25<08:51,  2.26s/pipeline]\r",
      "Optimization Progress:  33%|███▎      | 116/350 [02:32<13:23,  3.43s/pipeline]\r",
      "Optimization Progress:  33%|███▎      | 117/350 [02:34<12:31,  3.23s/pipeline]\r",
      "Optimization Progress:  34%|███▍      | 119/350 [02:35<08:49,  2.29s/pipeline]\r",
      "Optimization Progress:  34%|███▍      | 120/350 [02:36<07:48,  2.04s/pipeline]\r",
      "Optimization Progress:  35%|███▍      | 121/350 [02:37<06:16,  1.64s/pipeline]\r",
      "Optimization Progress:  35%|███▍      | 122/350 [02:37<04:38,  1.22s/pipeline]\r",
      "Optimization Progress:  35%|███▌      | 123/350 [02:37<03:28,  1.09pipeline/s]\r",
      "Optimization Progress:  35%|███▌      | 124/350 [02:39<04:03,  1.08s/pipeline]\r",
      "Optimization Progress:  36%|███▌      | 125/350 [02:41<05:18,  1.42s/pipeline]\r",
      "Optimization Progress:  36%|███▌      | 126/350 [02:43<06:12,  1.66s/pipeline]\r",
      "Optimization Progress:  36%|███▋      | 127/350 [02:43<04:35,  1.23s/pipeline]\r",
      "Optimization Progress:  37%|███▋      | 128/350 [02:45<05:34,  1.51s/pipeline]\r",
      "Optimization Progress:  37%|███▋      | 129/350 [02:47<05:58,  1.62s/pipeline]\r",
      "Optimization Progress:  37%|███▋      | 131/350 [02:50<05:28,  1.50s/pipeline]\r",
      "Optimization Progress:  38%|███▊      | 132/350 [02:50<04:07,  1.13s/pipeline]\r",
      "Optimization Progress:  38%|███▊      | 133/350 [02:50<03:00,  1.20pipeline/s]\r",
      "Optimization Progress:  38%|███▊      | 134/350 [02:59<11:37,  3.23s/pipeline]\r",
      "Optimization Progress:  39%|███▉      | 136/350 [03:00<08:49,  2.47s/pipeline]\r",
      "Optimization Progress:  39%|███▉      | 138/350 [03:05<08:21,  2.37s/pipeline]\r",
      "Optimization Progress:  40%|███▉      | 139/350 [03:10<11:24,  3.25s/pipeline]\r",
      "Optimization Progress:  41%|████      | 142/350 [03:10<07:56,  2.29s/pipeline]\r",
      "Optimization Progress:  41%|████      | 143/350 [03:13<08:57,  2.59s/pipeline]\r",
      "Optimization Progress:  41%|████      | 144/350 [03:18<11:03,  3.22s/pipeline]\r",
      "Optimization Progress:  41%|████▏     | 145/350 [03:18<08:00,  2.34s/pipeline]\r",
      "Optimization Progress:  42%|████▏     | 146/350 [03:25<12:41,  3.73s/pipeline]\r",
      "Optimization Progress:  42%|████▏     | 148/350 [03:30<11:02,  3.28s/pipeline]\r",
      "Optimization Progress:  43%|████▎     | 149/350 [03:32<10:18,  3.08s/pipeline]\r",
      "Optimization Progress:  43%|████▎     | 150/350 [03:37<11:29,  3.45s/pipeline]\r",
      "                                                                              \r",
      "\r",
      "Optimization Progress:  43%|████▎     | 150/350 [03:37<11:29,  3.45s/pipeline]"
     ]
    },
    {
     "name": "stdout",
     "output_type": "stream",
     "text": [
      "Generation 2 - Current best internal CV score: -1162941.2453576527\n"
     ]
    },
    {
     "name": "stderr",
     "output_type": "stream",
     "text": [
      "\r",
      "Optimization Progress:  43%|████▎     | 152/350 [03:40<09:40,  2.93s/pipeline]\r",
      "Optimization Progress:  44%|████▎     | 153/350 [03:42<08:12,  2.50s/pipeline]\r",
      "Optimization Progress:  44%|████▍     | 154/350 [03:42<05:57,  1.82s/pipeline]\r",
      "Optimization Progress:  44%|████▍     | 155/350 [03:45<06:47,  2.09s/pipeline]\r",
      "Optimization Progress:  45%|████▍     | 156/350 [03:45<04:53,  1.51s/pipeline]\r",
      "Optimization Progress:  45%|████▍     | 157/350 [03:48<06:22,  1.98s/pipeline]\r",
      "Optimization Progress:  45%|████▌     | 158/350 [03:48<04:36,  1.44s/pipeline]\r",
      "Optimization Progress:  46%|████▌     | 160/350 [03:50<04:11,  1.32s/pipeline]\r",
      "Optimization Progress:  47%|████▋     | 163/350 [04:04<07:08,  2.29s/pipeline]\r",
      "Optimization Progress:  47%|████▋     | 165/350 [04:08<06:47,  2.20s/pipeline]\r",
      "Optimization Progress:  47%|████▋     | 166/350 [04:08<04:57,  1.62s/pipeline]\r",
      "Optimization Progress:  48%|████▊     | 167/350 [04:09<03:59,  1.31s/pipeline]\r",
      "Optimization Progress:  48%|████▊     | 169/350 [04:09<02:49,  1.07pipeline/s]\r",
      "Optimization Progress:  49%|████▊     | 170/350 [04:12<04:59,  1.66s/pipeline]\r",
      "Optimization Progress:  49%|████▉     | 171/350 [04:14<04:42,  1.58s/pipeline]\r",
      "Optimization Progress:  49%|████▉     | 172/350 [04:27<15:29,  5.22s/pipeline]\r",
      "Optimization Progress:  50%|████▉     | 174/350 [04:30<12:08,  4.14s/pipeline]\r",
      "Optimization Progress:  50%|█████     | 175/350 [04:35<12:32,  4.30s/pipeline]\r",
      "Optimization Progress:  50%|█████     | 176/350 [04:35<09:00,  3.11s/pipeline]\r",
      "Optimization Progress:  51%|█████     | 177/350 [04:37<07:57,  2.76s/pipeline]\r",
      "Optimization Progress:  51%|█████     | 178/350 [04:40<07:54,  2.76s/pipeline]\r",
      "Optimization Progress:  51%|█████     | 179/350 [04:41<06:04,  2.13s/pipeline]\r",
      "Optimization Progress:  51%|█████▏    | 180/350 [04:43<05:38,  1.99s/pipeline]\r",
      "Optimization Progress:  52%|█████▏    | 182/350 [04:43<03:56,  1.41s/pipeline]\r",
      "Optimization Progress:  52%|█████▏    | 183/350 [04:45<04:58,  1.79s/pipeline]\r",
      "Optimization Progress:  53%|█████▎    | 184/350 [04:47<04:47,  1.73s/pipeline]\r",
      "Optimization Progress:  53%|█████▎    | 185/350 [04:47<03:34,  1.30s/pipeline]\r",
      "Optimization Progress:  53%|█████▎    | 186/350 [04:56<09:32,  3.49s/pipeline]\r",
      "Optimization Progress:  53%|█████▎    | 187/350 [04:58<08:13,  3.03s/pipeline]\r",
      "Optimization Progress:  54%|█████▍    | 189/350 [05:03<07:57,  2.97s/pipeline]\r",
      "Optimization Progress:  54%|█████▍    | 190/350 [05:06<07:46,  2.92s/pipeline]\r",
      "Optimization Progress:  55%|█████▍    | 191/350 [05:09<07:30,  2.83s/pipeline]\r",
      "Optimization Progress:  55%|█████▍    | 192/350 [05:12<07:39,  2.91s/pipeline]\r",
      "Optimization Progress:  55%|█████▌    | 194/350 [05:15<06:34,  2.53s/pipeline]\r",
      "Optimization Progress:  56%|█████▌    | 195/350 [05:17<06:17,  2.44s/pipeline]\r",
      "Optimization Progress:  56%|█████▋    | 197/350 [05:20<05:10,  2.03s/pipeline]\r",
      "Optimization Progress:  57%|█████▋    | 198/350 [05:30<11:46,  4.65s/pipeline]\r",
      "Optimization Progress:  57%|█████▋    | 199/350 [05:34<11:17,  4.48s/pipeline]\r",
      "Optimization Progress:  57%|█████▋    | 200/350 [05:36<09:19,  3.73s/pipeline]\r",
      "                                                                              \r",
      "\r",
      "Optimization Progress:  57%|█████▋    | 200/350 [05:36<09:19,  3.73s/pipeline]"
     ]
    },
    {
     "name": "stdout",
     "output_type": "stream",
     "text": [
      "Generation 3 - Current best internal CV score: -1162941.2453576527\n"
     ]
    },
    {
     "name": "stderr",
     "output_type": "stream",
     "text": [
      "\r",
      "Optimization Progress:  57%|█████▋    | 201/350 [05:41<09:54,  3.99s/pipeline]\r",
      "Optimization Progress:  58%|█████▊    | 202/350 [05:44<08:53,  3.60s/pipeline]\r",
      "Optimization Progress:  58%|█████▊    | 203/350 [05:47<08:29,  3.46s/pipeline]\r",
      "Optimization Progress:  58%|█████▊    | 204/350 [05:50<08:24,  3.46s/pipeline]\r",
      "Optimization Progress:  59%|█████▊    | 205/350 [05:55<09:32,  3.95s/pipeline]\r",
      "Optimization Progress:  59%|█████▉    | 206/350 [05:57<08:02,  3.35s/pipeline]\r",
      "Optimization Progress:  59%|█████▉    | 207/350 [05:59<06:52,  2.89s/pipeline]\r",
      "Optimization Progress:  59%|█████▉    | 208/350 [06:01<05:46,  2.44s/pipeline]\r",
      "Optimization Progress:  60%|█████▉    | 209/350 [06:03<05:31,  2.35s/pipeline]\r",
      "Optimization Progress:  60%|██████    | 210/350 [06:05<05:19,  2.28s/pipeline]\r",
      "Optimization Progress:  60%|██████    | 211/350 [06:07<05:01,  2.17s/pipeline]\r",
      "Optimization Progress:  61%|██████    | 212/350 [06:09<05:01,  2.19s/pipeline]\r",
      "Optimization Progress:  61%|██████    | 213/350 [06:10<04:27,  1.95s/pipeline]\r",
      "Optimization Progress:  61%|██████    | 214/350 [06:13<04:38,  2.05s/pipeline]\r",
      "Optimization Progress:  61%|██████▏   | 215/350 [06:18<06:52,  3.05s/pipeline]\r",
      "Optimization Progress:  62%|██████▏   | 216/350 [06:19<05:43,  2.56s/pipeline]\r",
      "Optimization Progress:  62%|██████▏   | 217/350 [06:21<04:56,  2.23s/pipeline]\r",
      "Optimization Progress:  62%|██████▏   | 218/350 [06:24<05:43,  2.60s/pipeline]\r",
      "Optimization Progress:  63%|██████▎   | 219/350 [06:26<04:58,  2.28s/pipeline]\r",
      "Optimization Progress:  63%|██████▎   | 220/350 [06:29<05:28,  2.53s/pipeline]\r",
      "Optimization Progress:  63%|██████▎   | 221/350 [06:30<04:46,  2.22s/pipeline]\r",
      "Optimization Progress:  64%|██████▎   | 223/350 [06:31<03:21,  1.59s/pipeline]\r",
      "Optimization Progress:  64%|██████▍   | 224/350 [06:32<03:02,  1.45s/pipeline]\r",
      "Optimization Progress:  64%|██████▍   | 225/350 [06:36<04:42,  2.26s/pipeline]\r",
      "Optimization Progress:  65%|██████▍   | 226/350 [06:42<06:54,  3.34s/pipeline]\r",
      "Optimization Progress:  65%|██████▍   | 227/350 [06:44<06:19,  3.08s/pipeline]\r",
      "Optimization Progress:  65%|██████▌   | 228/350 [06:46<05:29,  2.70s/pipeline]\r",
      "Optimization Progress:  65%|██████▌   | 229/350 [06:50<06:19,  3.14s/pipeline]\r",
      "Optimization Progress:  66%|██████▌   | 230/350 [06:55<07:02,  3.52s/pipeline]\r",
      "Optimization Progress:  66%|██████▌   | 231/350 [06:57<06:09,  3.10s/pipeline]\r",
      "Optimization Progress:  66%|██████▋   | 232/350 [06:59<05:38,  2.87s/pipeline]\r",
      "Optimization Progress:  67%|██████▋   | 233/350 [07:01<04:50,  2.48s/pipeline]\r",
      "Optimization Progress:  67%|██████▋   | 234/350 [07:03<04:33,  2.35s/pipeline]\r",
      "Optimization Progress:  67%|██████▋   | 235/350 [07:05<04:14,  2.21s/pipeline]\r",
      "Optimization Progress:  67%|██████▋   | 236/350 [07:08<04:38,  2.44s/pipeline]\r",
      "Optimization Progress:  68%|██████▊   | 237/350 [07:12<05:40,  3.01s/pipeline]\r",
      "Optimization Progress:  68%|██████▊   | 238/350 [09:49<1:31:48, 49.18s/pipeline]\r",
      "Optimization Progress:  68%|██████▊   | 239/350 [09:58<1:08:31, 37.04s/pipeline]\r",
      "Optimization Progress:  69%|██████▊   | 240/350 [09:58<47:39, 25.99s/pipeline]  \r",
      "Optimization Progress:  69%|██████▉   | 242/350 [10:01<33:31, 18.62s/pipeline]\r",
      "Optimization Progress:  69%|██████▉   | 243/350 [10:01<23:19, 13.08s/pipeline]\r",
      "Optimization Progress:  70%|██████▉   | 244/350 [10:02<16:56,  9.59s/pipeline]\r",
      "Optimization Progress:  70%|███████   | 245/350 [10:05<13:11,  7.54s/pipeline]\r",
      "Optimization Progress:  71%|███████   | 247/350 [10:09<10:12,  5.94s/pipeline]\r",
      "Optimization Progress:  71%|███████   | 248/350 [10:13<08:51,  5.21s/pipeline]\r",
      "Optimization Progress:  71%|███████   | 249/350 [10:13<06:17,  3.74s/pipeline]\r",
      "Optimization Progress:  71%|███████▏  | 250/350 [10:16<05:45,  3.45s/pipeline]\r",
      "                                                                              \r",
      "\r",
      "Optimization Progress:  71%|███████▏  | 250/350 [10:16<05:45,  3.45s/pipeline]"
     ]
    },
    {
     "name": "stdout",
     "output_type": "stream",
     "text": [
      "Generation 4 - Current best internal CV score: -1162941.2453576527\n"
     ]
    },
    {
     "name": "stderr",
     "output_type": "stream",
     "text": [
      "\r",
      "Optimization Progress:  72%|███████▏  | 251/350 [10:22<06:42,  4.06s/pipeline]\r",
      "Optimization Progress:  72%|███████▏  | 252/350 [10:27<07:28,  4.58s/pipeline]\r",
      "Optimization Progress:  72%|███████▏  | 253/350 [10:31<07:06,  4.39s/pipeline]\r",
      "Optimization Progress:  73%|███████▎  | 254/350 [10:42<10:01,  6.26s/pipeline]\r",
      "Optimization Progress:  73%|███████▎  | 255/350 [10:44<08:06,  5.13s/pipeline]\r",
      "Optimization Progress:  73%|███████▎  | 256/350 [10:49<07:34,  4.84s/pipeline]\r",
      "Optimization Progress:  73%|███████▎  | 257/350 [10:53<07:07,  4.60s/pipeline]\r",
      "Optimization Progress:  74%|███████▎  | 258/350 [10:53<05:08,  3.36s/pipeline]\r",
      "Optimization Progress:  74%|███████▍  | 259/350 [10:55<04:34,  3.01s/pipeline]\r",
      "Optimization Progress:  74%|███████▍  | 260/350 [10:58<04:16,  2.85s/pipeline]\r",
      "Optimization Progress:  75%|███████▍  | 261/350 [10:59<03:32,  2.39s/pipeline]\r",
      "Optimization Progress:  75%|███████▍  | 262/350 [11:00<03:03,  2.09s/pipeline]\r",
      "Optimization Progress:  75%|███████▌  | 263/350 [11:04<03:47,  2.62s/pipeline]\r",
      "Optimization Progress:  75%|███████▌  | 264/350 [11:05<03:06,  2.17s/pipeline]\r",
      "Optimization Progress:  76%|███████▌  | 265/350 [11:08<03:06,  2.20s/pipeline]\r",
      "Optimization Progress:  76%|███████▌  | 266/350 [11:12<03:56,  2.82s/pipeline]\r",
      "Optimization Progress:  76%|███████▋  | 267/350 [11:14<03:31,  2.55s/pipeline]\r",
      "Optimization Progress:  77%|███████▋  | 268/350 [11:16<03:22,  2.47s/pipeline]\r",
      "Optimization Progress:  77%|███████▋  | 269/350 [11:18<02:56,  2.18s/pipeline]\r",
      "Optimization Progress:  77%|███████▋  | 270/350 [11:18<02:21,  1.76s/pipeline]\r",
      "Optimization Progress:  77%|███████▋  | 271/350 [11:21<02:42,  2.06s/pipeline]\r",
      "Optimization Progress:  78%|███████▊  | 272/350 [11:25<03:18,  2.54s/pipeline]\r",
      "Optimization Progress:  78%|███████▊  | 273/350 [11:26<02:41,  2.10s/pipeline]\r",
      "Optimization Progress:  78%|███████▊  | 274/350 [11:29<03:02,  2.40s/pipeline]\r",
      "Optimization Progress:  79%|███████▊  | 275/350 [11:30<02:38,  2.11s/pipeline]\r",
      "Optimization Progress:  79%|███████▉  | 276/350 [11:38<04:25,  3.59s/pipeline]\r",
      "Optimization Progress:  79%|███████▉  | 277/350 [11:39<03:29,  2.87s/pipeline]\r",
      "Optimization Progress:  79%|███████▉  | 278/350 [11:41<03:06,  2.59s/pipeline]\r",
      "Optimization Progress:  80%|███████▉  | 279/350 [11:42<02:46,  2.34s/pipeline]\r",
      "Optimization Progress:  80%|████████  | 280/350 [11:44<02:31,  2.16s/pipeline]\r",
      "Optimization Progress:  80%|████████  | 281/350 [11:47<02:53,  2.51s/pipeline]\r",
      "Optimization Progress:  81%|████████  | 282/350 [11:52<03:36,  3.19s/pipeline]\r",
      "Optimization Progress:  81%|████████  | 283/350 [11:54<02:56,  2.64s/pipeline]\r",
      "Optimization Progress:  81%|████████  | 284/350 [11:56<02:56,  2.67s/pipeline]\r",
      "Optimization Progress:  81%|████████▏ | 285/350 [12:02<03:43,  3.45s/pipeline]\r",
      "Optimization Progress:  82%|████████▏ | 286/350 [12:03<03:00,  2.82s/pipeline]\r",
      "Optimization Progress:  82%|████████▏ | 287/350 [12:06<03:04,  2.93s/pipeline]\r",
      "Optimization Progress:  82%|████████▏ | 288/350 [12:09<02:56,  2.84s/pipeline]\r",
      "Optimization Progress:  83%|████████▎ | 289/350 [12:12<03:04,  3.03s/pipeline]\r",
      "Optimization Progress:  83%|████████▎ | 290/350 [12:16<03:17,  3.30s/pipeline]\r",
      "Optimization Progress:  83%|████████▎ | 291/350 [12:19<03:02,  3.09s/pipeline]\r",
      "Optimization Progress:  83%|████████▎ | 292/350 [12:21<02:49,  2.92s/pipeline]\r",
      "Optimization Progress:  84%|████████▎ | 293/350 [12:23<02:22,  2.51s/pipeline]\r",
      "Optimization Progress:  84%|████████▍ | 294/350 [12:25<02:06,  2.26s/pipeline]\r",
      "Optimization Progress:  84%|████████▍ | 295/350 [13:20<16:48, 18.33s/pipeline]\r",
      "Optimization Progress:  85%|████████▍ | 296/350 [13:21<11:49, 13.14s/pipeline]\r",
      "Optimization Progress:  85%|████████▍ | 297/350 [13:22<08:21,  9.47s/pipeline]\r",
      "Optimization Progress:  85%|████████▌ | 298/350 [13:24<06:08,  7.08s/pipeline]\r",
      "Optimization Progress:  85%|████████▌ | 299/350 [13:25<04:24,  5.19s/pipeline]\r",
      "Optimization Progress:  86%|████████▌ | 300/350 [13:27<03:32,  4.25s/pipeline]\r",
      "                                                                              \r",
      "\r",
      "Optimization Progress:  86%|████████▌ | 300/350 [13:27<03:32,  4.25s/pipeline]"
     ]
    },
    {
     "name": "stdout",
     "output_type": "stream",
     "text": [
      "Generation 5 - Current best internal CV score: -1152806.2062901917\n"
     ]
    },
    {
     "name": "stderr",
     "output_type": "stream",
     "text": [
      "\r",
      "Optimization Progress:  86%|████████▌ | 301/350 [13:32<03:37,  4.44s/pipeline]\r",
      "Optimization Progress:  86%|████████▋ | 302/350 [13:33<02:57,  3.70s/pipeline]\r",
      "Optimization Progress:  87%|████████▋ | 303/350 [13:36<02:34,  3.29s/pipeline]\r",
      "Optimization Progress:  87%|████████▋ | 304/350 [13:38<02:15,  2.96s/pipeline]\r",
      "Optimization Progress:  87%|████████▋ | 305/350 [13:41<02:08,  2.86s/pipeline]\r",
      "Optimization Progress:  87%|████████▋ | 306/350 [13:41<01:30,  2.07s/pipeline]\r",
      "Optimization Progress:  88%|████████▊ | 307/350 [13:42<01:20,  1.88s/pipeline]\r",
      "Optimization Progress:  88%|████████▊ | 308/350 [13:44<01:11,  1.71s/pipeline]\r",
      "Optimization Progress:  88%|████████▊ | 309/350 [13:46<01:15,  1.84s/pipeline]\r",
      "Optimization Progress:  89%|████████▊ | 310/350 [13:47<01:07,  1.69s/pipeline]\r",
      "Optimization Progress:  89%|████████▉ | 311/350 [13:50<01:24,  2.17s/pipeline]\r",
      "Optimization Progress:  89%|████████▉ | 312/350 [13:54<01:41,  2.68s/pipeline]\r",
      "Optimization Progress:  89%|████████▉ | 313/350 [13:58<01:54,  3.09s/pipeline]\r",
      "Optimization Progress:  90%|████████▉ | 314/350 [14:00<01:37,  2.71s/pipeline]\r",
      "Optimization Progress:  90%|█████████ | 315/350 [14:01<01:16,  2.18s/pipeline]\r",
      "Optimization Progress:  90%|█████████ | 316/350 [14:03<01:09,  2.05s/pipeline]\r",
      "Optimization Progress:  91%|█████████ | 317/350 [14:04<00:58,  1.77s/pipeline]\r",
      "Optimization Progress:  91%|█████████ | 318/350 [14:06<01:02,  1.95s/pipeline]\r",
      "Optimization Progress:  91%|█████████ | 319/350 [14:09<01:04,  2.08s/pipeline]\r",
      "Optimization Progress:  91%|█████████▏| 320/350 [14:10<00:56,  1.87s/pipeline]\r",
      "Optimization Progress:  92%|█████████▏| 321/350 [14:13<01:06,  2.28s/pipeline]\r",
      "Optimization Progress:  92%|█████████▏| 322/350 [14:16<01:04,  2.32s/pipeline]\r",
      "Optimization Progress:  92%|█████████▏| 323/350 [14:19<01:10,  2.60s/pipeline]\r",
      "Optimization Progress:  93%|█████████▎| 324/350 [14:21<01:01,  2.36s/pipeline]\r",
      "Optimization Progress:  93%|█████████▎| 325/350 [14:23<00:55,  2.22s/pipeline]\r",
      "Optimization Progress:  93%|█████████▎| 326/350 [14:25<00:53,  2.25s/pipeline]\r",
      "Optimization Progress:  93%|█████████▎| 327/350 [14:30<01:08,  2.97s/pipeline]\r",
      "Optimization Progress:  94%|█████████▎| 328/350 [14:31<00:54,  2.49s/pipeline]\r",
      "Optimization Progress:  94%|█████████▍| 329/350 [14:33<00:46,  2.20s/pipeline]\r",
      "Optimization Progress:  94%|█████████▍| 330/350 [14:36<00:52,  2.60s/pipeline]\r",
      "Optimization Progress:  95%|█████████▍| 331/350 [14:41<01:00,  3.18s/pipeline]\r",
      "Optimization Progress:  95%|█████████▍| 332/350 [14:43<00:53,  2.97s/pipeline]\r",
      "Optimization Progress:  95%|█████████▌| 333/350 [14:47<00:53,  3.16s/pipeline]\r",
      "Optimization Progress:  95%|█████████▌| 334/350 [14:48<00:42,  2.63s/pipeline]\r",
      "Optimization Progress:  96%|█████████▌| 335/350 [14:50<00:36,  2.44s/pipeline]\r",
      "Optimization Progress:  96%|█████████▌| 336/350 [14:51<00:28,  2.06s/pipeline]\r",
      "Optimization Progress:  96%|█████████▋| 337/350 [14:54<00:27,  2.13s/pipeline]\r",
      "Optimization Progress:  97%|█████████▋| 338/350 [15:00<00:40,  3.37s/pipeline]\r",
      "Optimization Progress:  97%|█████████▋| 339/350 [15:02<00:34,  3.10s/pipeline]\r",
      "Optimization Progress:  97%|█████████▋| 340/350 [15:04<00:25,  2.56s/pipeline]\r",
      "Optimization Progress:  97%|█████████▋| 341/350 [15:06<00:23,  2.59s/pipeline]\r",
      "Optimization Progress:  98%|█████████▊| 342/350 [15:08<00:17,  2.24s/pipeline]\r",
      "Optimization Progress:  98%|█████████▊| 343/350 [15:08<00:11,  1.69s/pipeline]\r",
      "Optimization Progress:  98%|█████████▊| 344/350 [15:09<00:09,  1.56s/pipeline]\r",
      "Optimization Progress:  99%|█████████▊| 345/350 [15:13<00:11,  2.25s/pipeline]\r",
      "Optimization Progress:  99%|█████████▉| 346/350 [15:15<00:08,  2.16s/pipeline]\r",
      "Optimization Progress:  99%|█████████▉| 347/350 [15:17<00:06,  2.05s/pipeline]\r",
      "Optimization Progress:  99%|█████████▉| 348/350 [15:22<00:06,  3.01s/pipeline]\r",
      "Optimization Progress: 100%|█████████▉| 349/350 [15:23<00:02,  2.34s/pipeline]\r",
      "Optimization Progress: 100%|██████████| 350/350 [15:25<00:00,  2.15s/pipeline]\r",
      "                                                                              \r",
      "\r",
      "Optimization Progress: 100%|██████████| 350/350 [15:25<00:00,  2.15s/pipeline]\r",
      "                                                                              \r"
     ]
    },
    {
     "name": "stdout",
     "output_type": "stream",
     "text": [
      "Generation 6 - Current best internal CV score: -1151128.6084858296\n",
      "\n",
      "Best pipeline: ExtraTreesRegressor(LinearSVR(input_matrix, C=0.5, dual=True, epsilon=0.1, loss=epsilon_insensitive, tol=0.1), bootstrap=True, max_features=0.6, min_samples_leaf=14, min_samples_split=9, n_estimators=100)\n",
      "-1184663.39216\n"
     ]
    },
    {
     "data": {
      "text/plain": [
       "True"
      ]
     },
     "execution_count": 75,
     "metadata": {},
     "output_type": "execute_result"
    }
   ],
   "source": [
    "# finally building model using tpot library\n",
    "X_train, X_test, y_train, y_test = train_test_split(tpot_train, target, train_size=0.75, test_size=0.25)\n",
    "\n",
    "tpot = TPOTRegressor(generations=6, population_size=50, verbosity=2)\n",
    "tpot.fit(X_train, y_train)\n",
    "print(tpot.score(X_test, y_test))\n",
    "tpot.export('tpot_boston_pipeline.py')"
   ]
  },
  {
   "cell_type": "code",
   "execution_count": 76,
   "metadata": {},
   "outputs": [],
   "source": [
    "## predicting using tpot optimised pipeline\n",
    "tpot_pred = tpot.predict(tpot_test)\n",
    "sub1 = pd.DataFrame(data=tpot_pred)\n",
    "#sub1.index = np.arange(0, len(test)+1)\n",
    "sub1 = sub1.rename(columns = {'0':'Item_Outlet_Sales'})\n",
    "sub1['Item_Identifier'] = test['Item_Identifier']\n",
    "sub1['Outlet_Identifier'] = test['Outlet_Identifier']\n",
    "sub1.columns = ['Item_Outlet_Sales','Item_Identifier','Outlet_Identifier']\n",
    "sub1 = sub1[['Item_Identifier','Outlet_Identifier','Item_Outlet_Sales']]\n",
    "sub1.to_csv('tpot.csv',index=False)"
   ]
  },
  {
   "cell_type": "code",
   "execution_count": null,
   "metadata": {},
   "outputs": [],
   "source": [
    "-1155256.7335726304"
   ]
  }
 ],
 "metadata": {
  "kernelspec": {
   "display_name": "Python 3",
   "language": "python",
   "name": "python3"
  },
  "language_info": {
   "codemirror_mode": {
    "name": "ipython",
    "version": 3
   },
   "file_extension": ".py",
   "mimetype": "text/x-python",
   "name": "python",
   "nbconvert_exporter": "python",
   "pygments_lexer": "ipython3",
   "version": "3.6.3"
  }
 },
 "nbformat": 4,
 "nbformat_minor": 2
}
